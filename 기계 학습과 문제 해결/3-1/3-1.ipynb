{
 "cells": [
  {
   "cell_type": "code",
   "execution_count": 10,
   "metadata": {},
   "outputs": [
    {
     "name": "stdout",
     "output_type": "stream",
     "text": [
      "(19239, 110)\n"
     ]
    },
    {
     "name": "stderr",
     "output_type": "stream",
     "text": [
      "C:\\Users\\qudwn\\AppData\\Local\\Temp\\ipykernel_1836\\3045307178.py:2: DtypeWarning: Columns (25,108) have mixed types. Specify dtype option on import or set low_memory=False.\n",
      "  fifa22 = pd.read_csv('fifa22.csv')\n"
     ]
    }
   ],
   "source": [
    "import pandas as pd\n",
    "fifa22 = pd.read_csv('fifa22.csv')\n",
    "\n",
    "print(fifa22.shape)"
   ]
  },
  {
   "cell_type": "code",
   "execution_count": 12,
   "metadata": {},
   "outputs": [
    {
     "name": "stdout",
     "output_type": "stream",
     "text": [
      "<class 'pandas.core.frame.DataFrame'>\n",
      "RangeIndex: 19239 entries, 0 to 19238\n",
      "Columns: 110 entries, sofifa_id to nation_flag_url\n",
      "dtypes: float64(16), int64(44), object(50)\n",
      "memory usage: 16.1+ MB\n",
      "None\n"
     ]
    }
   ],
   "source": [
    "print(fifa22.info())"
   ]
  },
  {
   "cell_type": "code",
   "execution_count": 13,
   "metadata": {},
   "outputs": [
    {
     "name": "stdout",
     "output_type": "stream",
     "text": [
      "sofifa_id                                                      192985\n",
      "player_url          https://sofifa.com/player/192985/kevin-de-bruy...\n",
      "short_name                                               K. De Bruyne\n",
      "long_name                                             Kevin De Bruyne\n",
      "player_positions                                              CM, CAM\n",
      "                                          ...                        \n",
      "player_face_url     https://cdn.sofifa.net/players/192/985/22_120.png\n",
      "club_logo_url                  https://cdn.sofifa.net/teams/10/60.png\n",
      "club_flag_url                 https://cdn.sofifa.net/flags/gb-eng.png\n",
      "nation_logo_url              https://cdn.sofifa.net/teams/1325/60.png\n",
      "nation_flag_url                   https://cdn.sofifa.net/flags/be.png\n",
      "Name: 4, Length: 110, dtype: object\n"
     ]
    }
   ],
   "source": [
    "sub1 = fifa22.loc[4]\n",
    "print(sub1)"
   ]
  },
  {
   "cell_type": "code",
   "execution_count": 14,
   "metadata": {},
   "outputs": [
    {
     "name": "stdout",
     "output_type": "stream",
     "text": [
      "    sofifa_id                                         player_url  \\\n",
      "2       20801  https://sofifa.com/player/20801/c-ronaldo-dos-...   \n",
      "3      190871  https://sofifa.com/player/190871/neymar-da-sil...   \n",
      "4      192985  https://sofifa.com/player/192985/kevin-de-bruy...   \n",
      "5      200389  https://sofifa.com/player/200389/jan-oblak/220002   \n",
      "6      231747  https://sofifa.com/player/231747/kylian-mbappe...   \n",
      "7      167495  https://sofifa.com/player/167495/manuel-neuer/...   \n",
      "8      192448  https://sofifa.com/player/192448/marc-andre-te...   \n",
      "9      202126  https://sofifa.com/player/202126/harry-kane/22...   \n",
      "10     215914  https://sofifa.com/player/215914/ngolo-kante/2...   \n",
      "11     165153  https://sofifa.com/player/165153/karim-benzema...   \n",
      "12     192119  https://sofifa.com/player/192119/thibaut-court...   \n",
      "13     200104  https://sofifa.com/player/200104/heung-min-son...   \n",
      "14     200145  https://sofifa.com/player/200145/carlos-henriq...   \n",
      "15     203376  https://sofifa.com/player/203376/virgil-van-di...   \n",
      "16     208722  https://sofifa.com/player/208722/sadio-mane/22...   \n",
      "\n",
      "           short_name                            long_name player_positions  \\\n",
      "2   Cristiano Ronaldo  Cristiano Ronaldo dos Santos Aveiro           ST, LW   \n",
      "3           Neymar Jr        Neymar da Silva Santos Júnior          LW, CAM   \n",
      "4        K. De Bruyne                      Kevin De Bruyne          CM, CAM   \n",
      "5            J. Oblak                            Jan Oblak               GK   \n",
      "6           K. Mbappé                 Kylian Mbappé Lottin           ST, LW   \n",
      "7            M. Neuer                   Manuel Peter Neuer               GK   \n",
      "8       M. ter Stegen                Marc-André ter Stegen               GK   \n",
      "9             H. Kane                           Harry Kane               ST   \n",
      "10           N. Kanté                         N'Golo Kanté          CDM, CM   \n",
      "11         K. Benzema                        Karim Benzema           CF, ST   \n",
      "12        T. Courtois                     Thibaut Courtois               GK   \n",
      "13             H. Son                              손흥민 孙兴慜       LM, CF, LW   \n",
      "14           Casemiro    Carlos Henrique Venancio Casimiro              CDM   \n",
      "15        V. van Dijk                      Virgil van Dijk               CB   \n",
      "16            S. Mané                           Sadio Mané               LW   \n",
      "\n",
      "    overall  potential    value_eur  wage_eur  age  ...   lcb    cb   rcb  \\\n",
      "2        91         91   45000000.0  270000.0   36  ...  53+3  53+3  53+3   \n",
      "3        91         91  129000000.0  270000.0   29  ...  50+3  50+3  50+3   \n",
      "4        91         91  125500000.0  350000.0   30  ...  69+3  69+3  69+3   \n",
      "5        91         93  112000000.0  130000.0   28  ...  33+3  33+3  33+3   \n",
      "6        91         95  194000000.0  230000.0   22  ...  54+3  54+3  54+3   \n",
      "7        90         90   13500000.0   86000.0   35  ...  34+3  34+3  34+3   \n",
      "8        90         92   99000000.0  250000.0   29  ...  33+3  33+3  33+3   \n",
      "9        90         90  129500000.0  240000.0   27  ...  61+3  61+3  61+3   \n",
      "10       90         90  100000000.0  230000.0   30  ...  84+3  84+3  84+3   \n",
      "11       89         89   66000000.0  350000.0   33  ...  55+3  55+3  55+3   \n",
      "12       89         91   85500000.0  250000.0   29  ...  29+3  29+3  29+3   \n",
      "13       89         89  104000000.0  220000.0   28  ...  54+3  54+3  54+3   \n",
      "14       89         89   88000000.0  310000.0   29  ...  86+3  86+3  86+3   \n",
      "15       89         89   86000000.0  230000.0   29  ...  88+1  88+1  88+1   \n",
      "16       89         89  101000000.0  270000.0   29  ...  59+3  59+3  59+3   \n",
      "\n",
      "      rb    gk                                    player_face_url  \\\n",
      "2   60+3  20+3  https://cdn.sofifa.net/players/020/801/22_120.png   \n",
      "3   62+3  20+3  https://cdn.sofifa.net/players/190/871/22_120.png   \n",
      "4   75+3  21+3  https://cdn.sofifa.net/players/192/985/22_120.png   \n",
      "5   32+3  89+3  https://cdn.sofifa.net/players/200/389/22_120.png   \n",
      "6   63+3  18+3  https://cdn.sofifa.net/players/231/747/22_120.png   \n",
      "7   35+3  88+2  https://cdn.sofifa.net/players/167/495/22_120.png   \n",
      "8   31+3  88+3  https://cdn.sofifa.net/players/192/448/22_120.png   \n",
      "9   64+3  20+3  https://cdn.sofifa.net/players/202/126/22_120.png   \n",
      "10  85+3  20+3  https://cdn.sofifa.net/players/215/914/22_120.png   \n",
      "11  59+3  18+3  https://cdn.sofifa.net/players/165/153/22_120.png   \n",
      "12  29+3  86+3  https://cdn.sofifa.net/players/192/119/22_120.png   \n",
      "13  64+3  19+3  https://cdn.sofifa.net/players/200/104/22_120.png   \n",
      "14  81+3  21+3  https://cdn.sofifa.net/players/200/145/22_120.png   \n",
      "15  81+3  20+3  https://cdn.sofifa.net/players/203/376/22_120.png   \n",
      "16  65+3  19+3  https://cdn.sofifa.net/players/208/722/22_120.png   \n",
      "\n",
      "                              club_logo_url  \\\n",
      "2    https://cdn.sofifa.net/teams/11/60.png   \n",
      "3    https://cdn.sofifa.net/teams/73/60.png   \n",
      "4    https://cdn.sofifa.net/teams/10/60.png   \n",
      "5   https://cdn.sofifa.net/teams/240/60.png   \n",
      "6    https://cdn.sofifa.net/teams/73/60.png   \n",
      "7    https://cdn.sofifa.net/teams/21/60.png   \n",
      "8   https://cdn.sofifa.net/teams/241/60.png   \n",
      "9    https://cdn.sofifa.net/teams/18/60.png   \n",
      "10    https://cdn.sofifa.net/teams/5/60.png   \n",
      "11  https://cdn.sofifa.net/teams/243/60.png   \n",
      "12  https://cdn.sofifa.net/teams/243/60.png   \n",
      "13   https://cdn.sofifa.net/teams/18/60.png   \n",
      "14  https://cdn.sofifa.net/teams/243/60.png   \n",
      "15    https://cdn.sofifa.net/teams/9/60.png   \n",
      "16    https://cdn.sofifa.net/teams/9/60.png   \n",
      "\n",
      "                              club_flag_url  \\\n",
      "2   https://cdn.sofifa.net/flags/gb-eng.png   \n",
      "3       https://cdn.sofifa.net/flags/fr.png   \n",
      "4   https://cdn.sofifa.net/flags/gb-eng.png   \n",
      "5       https://cdn.sofifa.net/flags/es.png   \n",
      "6       https://cdn.sofifa.net/flags/fr.png   \n",
      "7       https://cdn.sofifa.net/flags/de.png   \n",
      "8       https://cdn.sofifa.net/flags/es.png   \n",
      "9   https://cdn.sofifa.net/flags/gb-eng.png   \n",
      "10  https://cdn.sofifa.net/flags/gb-eng.png   \n",
      "11      https://cdn.sofifa.net/flags/es.png   \n",
      "12      https://cdn.sofifa.net/flags/es.png   \n",
      "13  https://cdn.sofifa.net/flags/gb-eng.png   \n",
      "14      https://cdn.sofifa.net/flags/es.png   \n",
      "15  https://cdn.sofifa.net/flags/gb-eng.png   \n",
      "16  https://cdn.sofifa.net/flags/gb-eng.png   \n",
      "\n",
      "                               nation_logo_url  \\\n",
      "2     https://cdn.sofifa.net/teams/1354/60.png   \n",
      "3                                          NaN   \n",
      "4     https://cdn.sofifa.net/teams/1325/60.png   \n",
      "5                                          NaN   \n",
      "6     https://cdn.sofifa.net/teams/1335/60.png   \n",
      "7     https://cdn.sofifa.net/teams/1337/60.png   \n",
      "8                                          NaN   \n",
      "9     https://cdn.sofifa.net/teams/1318/60.png   \n",
      "10    https://cdn.sofifa.net/teams/1335/60.png   \n",
      "11    https://cdn.sofifa.net/teams/1335/60.png   \n",
      "12    https://cdn.sofifa.net/teams/1325/60.png   \n",
      "13                                         NaN   \n",
      "14                                         NaN   \n",
      "15  https://cdn.sofifa.net/teams/105035/60.png   \n",
      "16                                         NaN   \n",
      "\n",
      "                            nation_flag_url  \n",
      "2       https://cdn.sofifa.net/flags/pt.png  \n",
      "3       https://cdn.sofifa.net/flags/br.png  \n",
      "4       https://cdn.sofifa.net/flags/be.png  \n",
      "5       https://cdn.sofifa.net/flags/si.png  \n",
      "6       https://cdn.sofifa.net/flags/fr.png  \n",
      "7       https://cdn.sofifa.net/flags/de.png  \n",
      "8       https://cdn.sofifa.net/flags/de.png  \n",
      "9   https://cdn.sofifa.net/flags/gb-eng.png  \n",
      "10      https://cdn.sofifa.net/flags/fr.png  \n",
      "11      https://cdn.sofifa.net/flags/fr.png  \n",
      "12      https://cdn.sofifa.net/flags/be.png  \n",
      "13      https://cdn.sofifa.net/flags/kr.png  \n",
      "14      https://cdn.sofifa.net/flags/br.png  \n",
      "15      https://cdn.sofifa.net/flags/nl.png  \n",
      "16      https://cdn.sofifa.net/flags/sn.png  \n",
      "\n",
      "[15 rows x 110 columns]\n"
     ]
    }
   ],
   "source": [
    "sub2 = fifa22.loc[2:16]\n",
    "print(sub2)"
   ]
  },
  {
   "cell_type": "code",
   "execution_count": 21,
   "metadata": {},
   "outputs": [
    {
     "name": "stdout",
     "output_type": "stream",
     "text": [
      "          short_name            club_name             league_name\n",
      "0           L. Messi  Paris Saint-Germain          French Ligue 1\n",
      "1     R. Lewandowski    FC Bayern München    German 1. Bundesliga\n",
      "2  Cristiano Ronaldo    Manchester United  English Premier League\n",
      "3          Neymar Jr  Paris Saint-Germain          French Ligue 1\n",
      "4       K. De Bruyne      Manchester City  English Premier League\n",
      "5           J. Oblak   Atlético de Madrid  Spain Primera Division\n"
     ]
    }
   ],
   "source": [
    "sub3 = fifa22.loc[:5, ['short_name', 'club_name', 'league_name']]\n",
    "print(sub3)"
   ]
  },
  {
   "cell_type": "code",
   "execution_count": 22,
   "metadata": {},
   "outputs": [
    {
     "name": "stdout",
     "output_type": "stream",
     "text": [
      "                                          player_url         short_name\n",
      "0  https://sofifa.com/player/158023/lionel-messi/...           L. Messi\n",
      "1  https://sofifa.com/player/188545/robert-lewand...     R. Lewandowski\n",
      "2  https://sofifa.com/player/20801/c-ronaldo-dos-...  Cristiano Ronaldo\n",
      "3  https://sofifa.com/player/190871/neymar-da-sil...          Neymar Jr\n",
      "4  https://sofifa.com/player/192985/kevin-de-bruy...       K. De Bruyne\n",
      "5  https://sofifa.com/player/200389/jan-oblak/220002           J. Oblak\n",
      "6  https://sofifa.com/player/231747/kylian-mbappe...          K. Mbappé\n",
      "7  https://sofifa.com/player/167495/manuel-neuer/...           M. Neuer\n",
      "8  https://sofifa.com/player/192448/marc-andre-te...      M. ter Stegen\n",
      "9  https://sofifa.com/player/202126/harry-kane/22...            H. Kane\n"
     ]
    }
   ],
   "source": [
    "sub4 = fifa22.iloc[0:10, 1:3]\n",
    "print(sub4)"
   ]
  },
  {
   "cell_type": "code",
   "execution_count": 28,
   "metadata": {},
   "outputs": [
    {
     "name": "stdout",
     "output_type": "stream",
     "text": [
      "0        False\n",
      "1        False\n",
      "2        False\n",
      "3        False\n",
      "4        False\n",
      "         ...  \n",
      "19234    False\n",
      "19235    False\n",
      "19236    False\n",
      "19237    False\n",
      "19238    False\n",
      "Name: nationality_name, Length: 19239, dtype: bool\n",
      "            short_name\n",
      "13              H. Son\n",
      "1286       Hwang Ui Jo\n",
      "1677      Jo Hyeon Woo\n",
      "1752      Lee Jae Sung\n",
      "1794    Hwang Hee Chan\n",
      "...                ...\n",
      "19053     Kang Jae Woo\n",
      "19109    Yoon Jong Tae\n",
      "19147  Kang Dong Hyeok\n",
      "19184  Kwon Seong Yoon\n",
      "19196     Kim Bong Soo\n",
      "\n",
      "[325 rows x 1 columns]\n"
     ]
    }
   ],
   "source": [
    "korea_player = fifa22['nationality_name'] == 'Korea Republic'\n",
    "sub5 = fifa22.loc[korea_player, ['short_name']]\n",
    "print(korea_player)\n",
    "print(sub5)"
   ]
  },
  {
   "cell_type": "code",
   "execution_count": 30,
   "metadata": {},
   "outputs": [
    {
     "data": {
      "image/png": "[encoded data removed]",
      "text/plain": [
       "<Figure size 640x480 with 1 Axes>"
      ]
     },
     "metadata": {},
     "output_type": "display_data"
    }
   ],
   "source": [
    "import matplotlib.pyplot as plt # 그래프를 출력하기 위한 모듈\n",
    "\n",
    "fifa22['preferred_foot'].value_counts().plot(kind = 'bar')\n",
    "plt.legend() # 범례 표시하기\n",
    "plt.show() # 그래프 출력하기"
   ]
  },
  {
   "cell_type": "code",
   "execution_count": 31,
   "metadata": {},
   "outputs": [
    {
     "data": {
      "image/png": "[encoded data removed]",
      "text/plain": [
       "<Figure size 640x480 with 1 Axes>"
      ]
     },
     "metadata": {},
     "output_type": "display_data"
    }
   ],
   "source": [
    "fifa22['preferred_foot'].value_counts().plot(kind = 'pie', autopct = '%1.f%%')\n",
    "plt.legend()\n",
    "plt.show()"
   ]
  },
  {
   "cell_type": "code",
   "execution_count": 131,
   "metadata": {},
   "outputs": [
    {
     "name": "stdout",
     "output_type": "stream",
     "text": [
      "          short_name  power_stamina  skill_dribbling  attacking_short_passing  \\\n",
      "0           L. Messi             72               96                       91   \n",
      "1     R. Lewandowski             76               85                       85   \n",
      "2  Cristiano Ronaldo             77               88                       80   \n",
      "3          Neymar Jr             81               95                       86   \n",
      "4       K. De Bruyne             89               88                       94   \n",
      "\n",
      "   mentality_penalties  \n",
      "0                   75  \n",
      "1                   90  \n",
      "2                   88  \n",
      "3                   93  \n",
      "4                   83  \n"
     ]
    },
    {
     "name": "stderr",
     "output_type": "stream",
     "text": [
      "C:\\Users\\qudwn\\AppData\\Local\\Temp\\ipykernel_1836\\209371262.py:2: DtypeWarning: Columns (25,108) have mixed types. Specify dtype option on import or set low_memory=False.\n",
      "  fifa22 = pd.read_csv('fifa22.csv')\n"
     ]
    }
   ],
   "source": [
    "import pandas as pd\n",
    "fifa22 = pd.read_csv('fifa22.csv')\n",
    "df = pd.DataFrame.copy(fifa22.sort_values(by='overall', ascending=False).head(200))\n",
    "test_features = ['short_name', 'power_stamina', 'skill_dribbling', 'attacking_short_passing', 'mentality_penalties']\n",
    "test_df = pd.DataFrame(df, columns = test_features)\n",
    "print(test_df.head(5))"
   ]
  },
  {
   "cell_type": "code",
   "execution_count": 133,
   "metadata": {},
   "outputs": [
    {
     "name": "stdout",
     "output_type": "stream",
     "text": [
      "[[72 96]\n",
      " [76 85]\n",
      " [77 88]\n",
      " [81 95]\n",
      " [89 88]\n",
      " [41 12]\n",
      " [88 93]\n",
      " [43 30]\n",
      " [35 21]\n",
      " [83 83]\n",
      " [97 79]\n",
      " [85 90]\n",
      " [34 28]\n",
      " [32 27]\n",
      " [41 23]\n",
      " [85 90]\n",
      " [94 83]\n",
      " [69 70]\n",
      " [78 87]\n",
      " [88 87]\n",
      " [38 13]\n",
      " [89 69]\n",
      " [39 24]\n",
      " [82 78]\n",
      " [91 83]\n",
      " [79 87]\n",
      " [71 83]\n",
      " [75 80]\n",
      " [78 83]\n",
      " [78 65]\n",
      " [76 91]\n",
      " [88 64]\n",
      " [77 92]\n",
      " [88 78]\n",
      " [90 88]\n",
      " [95 81]\n",
      " [88 84]\n",
      " [83 69]\n",
      " [70 90]\n",
      " [77 88]\n",
      " [62 86]\n",
      " [86 77]\n",
      " [45 11]\n",
      " [78 88]\n",
      " [83 85]\n",
      " [41 10]\n",
      " [78 80]\n",
      " [69 89]\n",
      " [88 78]\n",
      " [90 85]\n",
      " [72 63]\n",
      " [87 78]\n",
      " [93 92]\n",
      " [90 82]\n",
      " [75 91]\n",
      " [79 67]\n",
      " [79 86]\n",
      " [76 78]\n",
      " [76 55]\n",
      " [74 90]\n",
      " [70 69]\n",
      " [71 57]\n",
      " [41 18]\n",
      " [87 81]\n",
      " [66 69]\n",
      " [78 81]\n",
      " [78 82]\n",
      " [44 14]\n",
      " [74 90]\n",
      " [90 72]\n",
      " [79 86]\n",
      " [89 78]\n",
      " [87 79]\n",
      " [78 88]\n",
      " [91 84]\n",
      " [75 65]\n",
      " [82 85]\n",
      " [80 83]\n",
      " [86 86]\n",
      " [91 84]\n",
      " [86 85]\n",
      " [87 89]\n",
      " [80 66]\n",
      " [93 80]\n",
      " [77 89]\n",
      " [75 85]\n",
      " [34 12]\n",
      " [66 86]\n",
      " [45 15]\n",
      " [81 74]\n",
      " [68 67]\n",
      " [65 69]\n",
      " [35 19]\n",
      " [74 86]\n",
      " [67 85]\n",
      " [86 79]\n",
      " [79 79]\n",
      " [60 54]\n",
      " [68 57]\n",
      " [80 88]\n",
      " [90 85]\n",
      " [79 83]\n",
      " [79 88]\n",
      " [84 81]\n",
      " [39 32]\n",
      " [94 76]\n",
      " [81 79]\n",
      " [90 83]\n",
      " [79 88]\n",
      " [68 87]\n",
      " [95 83]\n",
      " [90 87]\n",
      " [79 84]\n",
      " [94 78]\n",
      " [80 89]\n",
      " [77 86]\n",
      " [79 86]\n",
      " [75 61]\n",
      " [83 82]\n",
      " [80 80]\n",
      " [43 18]\n",
      " [85 79]\n",
      " [52 78]\n",
      " [82 84]\n",
      " [63 63]\n",
      " [66 88]\n",
      " [86 78]\n",
      " [82 71]\n",
      " [87 74]\n",
      " [69 87]\n",
      " [93 85]\n",
      " [75 77]\n",
      " [88 85]\n",
      " [75 87]\n",
      " [86 78]\n",
      " [65 88]\n",
      " [40 13]\n",
      " [82 71]\n",
      " [75 85]\n",
      " [53 47]\n",
      " [75 79]\n",
      " [83 65]\n",
      " [76 84]\n",
      " [76 65]\n",
      " [85 84]\n",
      " [76 87]\n",
      " [87 79]\n",
      " [82 88]\n",
      " [88 76]\n",
      " [76 88]\n",
      " [83 84]\n",
      " [84 83]\n",
      " [79 89]\n",
      " [89 80]\n",
      " [85 89]\n",
      " [81 63]\n",
      " [89 80]\n",
      " [81 80]\n",
      " [88 85]\n",
      " [79 87]\n",
      " [79 86]\n",
      " [68 89]\n",
      " [86 82]\n",
      " [35 13]\n",
      " [86 79]\n",
      " [76 69]\n",
      " [75 86]\n",
      " [69 60]\n",
      " [91 85]\n",
      " [82 84]\n",
      " [45 14]\n",
      " [43 16]\n",
      " [66 76]\n",
      " [69 84]\n",
      " [76 78]\n",
      " [41 15]\n",
      " [65 50]\n",
      " [60 64]\n",
      " [76 62]\n",
      " [77 68]\n",
      " [91 82]\n",
      " [77 87]\n",
      " [80 82]\n",
      " [34 10]\n",
      " [83 79]\n",
      " [74 78]\n",
      " [69 54]\n",
      " [90 80]\n",
      " [88 84]\n",
      " [37 15]\n",
      " [77 72]\n",
      " [67 76]\n",
      " [77 83]\n",
      " [81 83]\n",
      " [92 81]\n",
      " [87 65]\n",
      " [80 65]\n",
      " [69 69]\n",
      " [78 90]\n",
      " [65 69]]\n"
     ]
    }
   ],
   "source": [
    "import numpy as np\n",
    "XY = np.array(test_df)\n",
    "X = XY[:, 1:3]\n",
    "\n",
    "print(X)"
   ]
  },
  {
   "cell_type": "code",
   "execution_count": 134,
   "metadata": {},
   "outputs": [
    {
     "name": "stdout",
     "output_type": "stream",
     "text": [
      "[[82 83]\n",
      " [77 87]\n",
      " [89 86]]\n"
     ]
    }
   ],
   "source": [
    "k = 3\n",
    "C_x = np.random.choice(X[:, 0], k)\n",
    "C_y = np.random.choice(X[:, 1], k)\n",
    "C = np.array(list(zip(C_x, C_y)))\n",
    "print(C)"
   ]
  },
  {
   "cell_type": "code",
   "execution_count": 135,
   "metadata": {},
   "outputs": [
    {
     "data": {
      "image/png": "[encoded data removed]",
      "text/plain": [
       "<Figure size 640x480 with 1 Axes>"
      ]
     },
     "metadata": {},
     "output_type": "display_data"
    }
   ],
   "source": [
    "# 데이터 시각화하기\n",
    "import matplotlib.pyplot as plt\n",
    "stamina = test_df['power_stamina']\n",
    "dribbling = test_df['skill_dribbling']\n",
    "plt.title('stamina&dribbling')\n",
    "plt.xlabel('stamina')\n",
    "plt.ylabel('dribbling')\n",
    "plt.scatter(stamina, dribbling, marker = '^', c = 'blue', s = 10, label = 'players')\n",
    "plt.scatter(C_x, C_y, marker ='*', s = 200, c = 'black', label = 'centroids')\n",
    "plt.legend(loc = 'best')\n",
    "plt.grid()\n",
    "plt.show()"
   ]
  },
  {
   "cell_type": "code",
   "execution_count": 136,
   "metadata": {},
   "outputs": [],
   "source": [
    "def Distance(A, B):\n",
    "\treturn np.sqrt(np.sum(np.power((A-B), 2)))"
   ]
  },
  {
   "cell_type": "code",
   "execution_count": 138,
   "metadata": {},
   "outputs": [
    {
     "name": "stdout",
     "output_type": "stream",
     "text": [
      "[[0. 0.]\n",
      " [0. 0.]\n",
      " [0. 0.]]\n",
      "205.98058160904392\n"
     ]
    }
   ],
   "source": [
    "C_old = np.zeros(C.shape)\n",
    "clusters = np.zeros(len(X))\n",
    "flag = Distance(C, C_old)\n",
    "print(C_old)\n",
    "print(flag)"
   ]
  },
  {
   "cell_type": "code",
   "execution_count": 141,
   "metadata": {},
   "outputs": [],
   "source": [
    "from copy import deepcopy\n",
    "\n",
    "distances = []\n",
    "while flag != 0:\n",
    "    for i in range(len(X)):\n",
    "        for j in range(3):\n",
    "            temp = Distance(X[i], C[j])\n",
    "            distances.append(temp)\n",
    "        cluster = np.argmin(distances)\n",
    "        clusters[i] = cluster\n",
    "        distances = []\n",
    " \n",
    "    C_old = deepcopy(C)\n",
    "\n",
    "    for i in range(k):\n",
    "        points = [X[j] for j in range(len(X)) if clusters[j] == i]\n",
    "        C[i] = np.mean(points)\n",
    "\n",
    "    flag = Distance(C, C_old)"
   ]
  },
  {
   "cell_type": "code",
   "execution_count": 142,
   "metadata": {},
   "outputs": [
    {
     "name": "stderr",
     "output_type": "stream",
     "text": [
      "C:\\Users\\qudwn\\AppData\\Local\\Temp\\ipykernel_1836\\3694267724.py:5: UserWarning: You passed a edgecolor/edgecolors ('black') for an unfilled marker ('x').  Matplotlib is ignoring the edgecolor in favor of the facecolor.  This behavior may change in the future.\n",
      "  plt.scatter(X[clusters == 1,0], X[clusters == 1,1], s=50, c='yellow', marker='x', edgecolor='black', label='B')\n"
     ]
    },
    {
     "data": {
      "image/png": "[encoded data removed]",
      "text/plain": [
       "<Figure size 640x480 with 1 Axes>"
      ]
     },
     "metadata": {},
     "output_type": "display_data"
    }
   ],
   "source": [
    "import matplotlib.pyplot as plt\n",
    "# 1번 군집\n",
    "plt.scatter(X[clusters == 0,0], X[clusters == 0,1], s=50, c='red', marker='o', edgecolor='black', label='A')\n",
    "# 2번 군집\n",
    "plt.scatter(X[clusters == 1,0], X[clusters == 1,1], s=50, c='yellow', marker='x', edgecolor='black', label='B')\n",
    "# 3번 군집\n",
    "plt.scatter(X[clusters == 2,0], X[clusters == 2,1], s=50, c='blue', marker='^', edgecolor='black', label='C')\n",
    "# 군집의 중심 좌표들\n",
    "plt.scatter(C[:, 0], C[:, 1], s=250, marker='*', c='black', edgecolor='black', label='Centroids')\n",
    "plt.legend()\n",
    "plt.grid()\n",
    "plt.show()"
   ]
  }
 ],
 "metadata": {
  "kernelspec": {
   "display_name": "Python 3",
   "language": "python",
   "name": "python3"
  },
  "language_info": {
   "codemirror_mode": {
    "name": "ipython",
    "version": 3
   },
   "file_extension": ".py",
   "mimetype": "text/x-python",
   "name": "python",
   "nbconvert_exporter": "python",
   "pygments_lexer": "ipython3",
   "version": "3.10.11"
  },
  "orig_nbformat": 4
 },
 "nbformat": 4,
 "nbformat_minor": 2
}
